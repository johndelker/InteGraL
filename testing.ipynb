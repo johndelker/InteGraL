{
 "cells": [
  {
   "cell_type": "code",
   "execution_count": 3,
   "id": "eeb781b1-821c-4348-b469-03da6da4531b",
   "metadata": {
    "ExecuteTime": {
     "end_time": "2023-12-07T20:03:56.213088452Z",
     "start_time": "2023-12-07T20:03:55.583861598Z"
    }
   },
   "outputs": [],
   "source": [
    "import numpy as np\n",
    "import matplotlib.pyplot as plt\n",
    "import pandas as pd\n",
    "import random\n",
    "import astropy.constants as const\n",
    "import astropy.units as u\n",
    "%matplotlib inline"
   ]
  },
  {
   "cell_type": "code",
   "execution_count": 8,
   "id": "791de06e-7b19-45fc-98dd-a3b261192cfc",
   "metadata": {
    "ExecuteTime": {
     "end_time": "2023-11-29T22:11:27.146364504Z",
     "start_time": "2023-11-29T22:11:27.105052244Z"
    }
   },
   "outputs": [],
   "source": [
    "def random_background(object_count=100, max_impact=150):\n",
    "    \n",
    "    # Create a list of objects behind the lensing mass, each with randomized brightness and relative position\n",
    "    background_objects = []\n",
    "    for i in range(0, object_count):\n",
    "        new_object = { \n",
    "            'abs_mag': -30 + (random.random() * 20), \n",
    "            'distance': 1000 + (random.random() * 9000), \n",
    "            'impact': random.random() * max_impact,\n",
    "            'theta': random.random() * 2 * np.pi \n",
    "        }\n",
    "        new_object['x'] = new_object['impact'] * np.cos(new_object['theta'])\n",
    "        new_object['y'] = new_object['impact'] * np.sin(new_object['theta'])\n",
    "        background_objects.insert(0, new_object)\n",
    "        \n",
    "    return pd.DataFrame(background_objects)"
   ]
  },
  {
   "cell_type": "code",
   "execution_count": 9,
   "id": "7ca92e61-20af-4408-b1c4-ce532d35ef17",
   "metadata": {
    "ExecuteTime": {
     "end_time": "2023-11-29T22:11:27.646385395Z",
     "start_time": "2023-11-29T22:11:27.636225017Z"
    }
   },
   "outputs": [
    {
     "data": {
      "text/plain": "      abs_mag     distance      impact     theta           x           y\n0  -24.844208  3386.318523  102.331670  5.548317   75.921849  -68.612269\n1  -26.400792  9947.619166  145.391886  4.413444  -42.819642 -138.943438\n2  -15.220100  8709.819550   14.980427  5.507958   10.699954  -10.484474\n3  -12.406295  1857.953199   80.599315  0.277679   77.511906   22.094206\n4  -23.030743  3001.636169  123.334845  3.216046 -122.993160   -9.174232\n..        ...          ...         ...       ...         ...         ...\n95 -26.102870  5349.952911   35.074142  4.799479    3.050746  -34.941213\n96 -24.032888  4022.235349   49.279565  1.956763  -18.551521   45.654316\n97 -18.999559  5426.018595   17.429131  1.834803   -4.548138   16.825250\n98 -24.519772  9762.857080   47.947321  1.070522   22.998707   42.071428\n99 -12.331517  4532.105009   53.680948  1.663412   -4.964567   53.450887\n\n[100 rows x 6 columns]",
      "text/html": "<div>\n<style scoped>\n    .dataframe tbody tr th:only-of-type {\n        vertical-align: middle;\n    }\n\n    .dataframe tbody tr th {\n        vertical-align: top;\n    }\n\n    .dataframe thead th {\n        text-align: right;\n    }\n</style>\n<table border=\"1\" class=\"dataframe\">\n  <thead>\n    <tr style=\"text-align: right;\">\n      <th></th>\n      <th>abs_mag</th>\n      <th>distance</th>\n      <th>impact</th>\n      <th>theta</th>\n      <th>x</th>\n      <th>y</th>\n    </tr>\n  </thead>\n  <tbody>\n    <tr>\n      <th>0</th>\n      <td>-24.844208</td>\n      <td>3386.318523</td>\n      <td>102.331670</td>\n      <td>5.548317</td>\n      <td>75.921849</td>\n      <td>-68.612269</td>\n    </tr>\n    <tr>\n      <th>1</th>\n      <td>-26.400792</td>\n      <td>9947.619166</td>\n      <td>145.391886</td>\n      <td>4.413444</td>\n      <td>-42.819642</td>\n      <td>-138.943438</td>\n    </tr>\n    <tr>\n      <th>2</th>\n      <td>-15.220100</td>\n      <td>8709.819550</td>\n      <td>14.980427</td>\n      <td>5.507958</td>\n      <td>10.699954</td>\n      <td>-10.484474</td>\n    </tr>\n    <tr>\n      <th>3</th>\n      <td>-12.406295</td>\n      <td>1857.953199</td>\n      <td>80.599315</td>\n      <td>0.277679</td>\n      <td>77.511906</td>\n      <td>22.094206</td>\n    </tr>\n    <tr>\n      <th>4</th>\n      <td>-23.030743</td>\n      <td>3001.636169</td>\n      <td>123.334845</td>\n      <td>3.216046</td>\n      <td>-122.993160</td>\n      <td>-9.174232</td>\n    </tr>\n    <tr>\n      <th>...</th>\n      <td>...</td>\n      <td>...</td>\n      <td>...</td>\n      <td>...</td>\n      <td>...</td>\n      <td>...</td>\n    </tr>\n    <tr>\n      <th>95</th>\n      <td>-26.102870</td>\n      <td>5349.952911</td>\n      <td>35.074142</td>\n      <td>4.799479</td>\n      <td>3.050746</td>\n      <td>-34.941213</td>\n    </tr>\n    <tr>\n      <th>96</th>\n      <td>-24.032888</td>\n      <td>4022.235349</td>\n      <td>49.279565</td>\n      <td>1.956763</td>\n      <td>-18.551521</td>\n      <td>45.654316</td>\n    </tr>\n    <tr>\n      <th>97</th>\n      <td>-18.999559</td>\n      <td>5426.018595</td>\n      <td>17.429131</td>\n      <td>1.834803</td>\n      <td>-4.548138</td>\n      <td>16.825250</td>\n    </tr>\n    <tr>\n      <th>98</th>\n      <td>-24.519772</td>\n      <td>9762.857080</td>\n      <td>47.947321</td>\n      <td>1.070522</td>\n      <td>22.998707</td>\n      <td>42.071428</td>\n    </tr>\n    <tr>\n      <th>99</th>\n      <td>-12.331517</td>\n      <td>4532.105009</td>\n      <td>53.680948</td>\n      <td>1.663412</td>\n      <td>-4.964567</td>\n      <td>53.450887</td>\n    </tr>\n  </tbody>\n</table>\n<p>100 rows × 6 columns</p>\n</div>"
     },
     "execution_count": 9,
     "metadata": {},
     "output_type": "execute_result"
    }
   ],
   "source": [
    "data_frame = random_background()\n",
    "data_frame"
   ]
  },
  {
   "cell_type": "code",
   "execution_count": 7,
   "outputs": [],
   "source": [
    "def lens(beta, mass, lens_distance, source_distance):\n",
    "    \n",
    "    lens_to_source = source_distance - lens_distance\n",
    "    \n",
    "    #surface_mass_density = mass / \n",
    "    \n",
    "    #critical_mass_surface_density = (source_distance * (const.c ** 2)) / (lens_to_source * lens_distance * 4 * np.pi * const.G)\n",
    "    \n",
    "    #print(critical_mass_surface_density.decompose())\n",
    "    \n",
    "    #convergence = surface_mass_density / critical_mass_surface_density\n",
    "    \n",
    "    # Calculate the einstein radius (angle of theta when source is directly behind lens)\n",
    "    theta_E = (np.sqrt((4 * const.G * mass * lens_to_source) / ((const.c ** 2) * lens_distance * source_distance)).decompose() * u.rad)\n",
    "    \n",
    "    #print(theta_E.to(u.arcsec))\n",
    "    \n",
    "    theta_1 = 0.5 * (beta + np.sqrt((beta ** 2) + (4 * (theta_E ** 2))))\n",
    "    theta_2 = 0.5 * (beta - np.sqrt((beta ** 2) + (4 * (theta_E ** 2))))\n",
    "\n",
    "    return [theta_E, theta_1, theta_2]"
   ],
   "metadata": {
    "collapsed": false,
    "ExecuteTime": {
     "end_time": "2023-12-07T20:15:24.228206593Z",
     "start_time": "2023-12-07T20:15:24.184119476Z"
    }
   },
   "id": "dde1072556ef058a"
  },
  {
   "cell_type": "code",
   "execution_count": 18,
   "id": "809d2211-6e0d-4b7b-9959-f0977127554e",
   "metadata": {
    "ExecuteTime": {
     "end_time": "2023-12-07T20:18:47.194535988Z",
     "start_time": "2023-12-07T20:18:47.048858028Z"
    }
   },
   "outputs": [
    {
     "name": "stdout",
     "output_type": "stream",
     "text": [
      "3.5679690075350905 arcsec\n",
      "-1.894511510604416e-09 arcsec / rad\n",
      "-10313240.312354816 arcsec / rad\n",
      "3.45960037725565e-05 rad\n",
      "3.56796900753509 arcsec\n"
     ]
    },
    {
     "data": {
      "text/plain": "<Figure size 640x480 with 1 Axes>",
      "image/png": "[encoded data removed]"
     },
     "metadata": {},
     "output_type": "display_data"
    }
   ],
   "source": [
    "scale = 100\n",
    "image_data = np.zeros((scale, scale))\n",
    "\n",
    "thetas = lens(0 * u.arcsec, 6 * (10 ** 12) * const.M_sun, 1184.6 * u.Mpc, 1713.4 * u.Mpc)\n",
    "image_radius = thetas[0] * 2\n",
    "object_phi = 3 * np.pi / 2\n",
    "object_y1 = (np.abs(thetas[1]) / image_radius) * scale * np.sin(object_phi) * np.sign(thetas[1])\n",
    "object_y2 = (np.abs(thetas[2]) / image_radius) * scale * np.sin(object_phi) * np.sign(thetas[2])\n",
    "object_x1 = (np.abs(thetas[1]) / image_radius) * scale * np.cos(object_phi) * np.sign(thetas[1])\n",
    "object_x2 = (np.abs(thetas[2]) / image_radius) * scale * np.cos(object_phi) * np.sign(thetas[2])\n",
    "image_data[int(object_x1), int(object_y1)] = 256\n",
    "image_data[int(object_x2), int(object_y2)] = 256\n",
    "print(object_x1)\n",
    "print(object_y1)\n",
    "print(image_radius)\n",
    "print(thetas[1])\n",
    "\n",
    "image_data\n",
    "plt.imshow(image_data);"
   ]
  },
  {
   "cell_type": "code",
   "execution_count": null,
   "id": "d3f5c635-782d-40b7-8196-2748880ea3e3",
   "metadata": {},
   "outputs": [],
   "source": []
  }
 ],
 "metadata": {
  "kernelspec": {
   "display_name": "Python 3 (ipykernel)",
   "language": "python",
   "name": "python3"
  },
  "language_info": {
   "codemirror_mode": {
    "name": "ipython",
    "version": 3
   },
   "file_extension": ".py",
   "mimetype": "text/x-python",
   "name": "python",
   "nbconvert_exporter": "python",
   "pygments_lexer": "ipython3",
   "version": "3.11.6"
  }
 },
 "nbformat": 4,
 "nbformat_minor": 5
}
